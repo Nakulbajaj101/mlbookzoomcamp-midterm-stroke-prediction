{
 "cells": [
  {
   "cell_type": "code",
   "execution_count": 1,
   "metadata": {},
   "outputs": [],
   "source": [
    "import numpy as np\n",
    "import pandas as pd\n",
    "import xgboost as xgb\n",
    "from sklearn.ensemble import RandomForestClassifier\n",
    "from sklearn.feature_extraction import DictVectorizer\n",
    "from sklearn.impute import KNNImputer\n",
    "from sklearn.linear_model import LogisticRegression\n",
    "from sklearn.metrics import recall_score\n",
    "from sklearn.model_selection import GridSearchCV, train_test_split\n",
    "from sklearn.pipeline import Pipeline\n",
    "from sklearn.preprocessing import MinMaxScaler\n",
    "from sklearn.tree import DecisionTreeClassifier\n",
    "\n",
    "from processing.preprocessors import (BinaryEncoder, CleanStrings,\n",
    "                                      ColumnDropperTransformer)\n"
   ]
  },
  {
   "cell_type": "code",
   "execution_count": 2,
   "metadata": {},
   "outputs": [],
   "source": [
    "# Importing the data\n",
    "data = pd.read_csv(\"healthcare-dataset-stroke-data.csv\")"
   ]
  },
  {
   "cell_type": "code",
   "execution_count": 3,
   "metadata": {},
   "outputs": [],
   "source": [
    "# Cleaning the columns\n",
    "columns = [cols.lower().replace(\" \",\"_\") for cols in data]\n",
    "data.columns = columns"
   ]
  },
  {
   "cell_type": "code",
   "execution_count": 4,
   "metadata": {},
   "outputs": [],
   "source": [
    "# Storing the column definitions so can run them through the pipeline\n",
    "id = 'id'\n",
    "target = 'stroke'\n",
    "\n",
    "\n",
    "categorical_columns = ['gender', 'hypertension', 'heart_disease', 'ever_married',\n",
    "       'work_type', 'residence_type', 'smoking_status']\n",
    "\n",
    "numerical_columns = ['avg_glucose_level', 'bmi']\n",
    "\n",
    "missing_data_num_columns = ['bmi']\n",
    "\n",
    "binary_encoder_column = \"ever_married\"\n",
    "\n",
    "categorical_binary_classifier_column = ['heart_disease']"
   ]
  },
  {
   "cell_type": "code",
   "execution_count": 5,
   "metadata": {},
   "outputs": [
    {
     "data": {
      "text/plain": [
       "((4599, 12), (511, 12))"
      ]
     },
     "execution_count": 5,
     "metadata": {},
     "output_type": "execute_result"
    }
   ],
   "source": [
    "# Split the data into train and test\n",
    "train, test = train_test_split(data, test_size=0.1, random_state=1)\n",
    "\n",
    "train.shape, test.shape\n",
    "\n",
    "\n"
   ]
  },
  {
   "cell_type": "code",
   "execution_count": 6,
   "metadata": {},
   "outputs": [],
   "source": [
    "# Defining the Pipeline Objects\n",
    "preprocess_pipeline = Pipeline(\n",
    "    [\n",
    "        (\"dropping_id_column\",\n",
    "        \n",
    "            ColumnDropperTransformer(\n",
    "                column_list=[id]\n",
    "            )\n",
    "        ),\n",
    "        (\"binary_encoder\",\n",
    "            BinaryEncoder(\n",
    "                column_name=binary_encoder_column\n",
    "            )\n",
    "        ),\n",
    "        (\"cleaning_strings\",\n",
    "            CleanStrings(\n",
    "                column_list=categorical_columns\n",
    "            )\n",
    "        )\n",
    "    ])\n",
    "\n",
    "transform_pipeline = Pipeline(\n",
    "    [   \n",
    "        (\"dict_vectorizer\",\n",
    "            DictVectorizer(sparse=False)\n",
    "        ),\n",
    "        (\"scaling_data\",\n",
    "            MinMaxScaler()\n",
    "        ),\n",
    "        (\"multiple_numeric_values_imputation\",\n",
    "            KNNImputer(add_indicator=True)\n",
    "        )\n",
    "    ]\n",
    ")"
   ]
  },
  {
   "cell_type": "code",
   "execution_count": 7,
   "metadata": {},
   "outputs": [
    {
     "name": "stderr",
     "output_type": "stream",
     "text": [
      "/var/folders/6f/p7312_7n4nq5hp35rfymms1h0000gn/T/ipykernel_26038/3679917043.py:2: FutureWarning: In a future version of pandas all arguments of DataFrame.drop except for the argument 'labels' will be keyword-only.\n",
      "  preprocessed_train = preprocess_pipeline.fit_transform(train.drop([target],1))\n",
      "/var/folders/6f/p7312_7n4nq5hp35rfymms1h0000gn/T/ipykernel_26038/3679917043.py:3: FutureWarning: In a future version of pandas all arguments of DataFrame.drop except for the argument 'labels' will be keyword-only.\n",
      "  preprocessed_test = preprocess_pipeline.transform(test.drop([target],1))\n"
     ]
    }
   ],
   "source": [
    "# Preprocessed data\n",
    "preprocessed_train = preprocess_pipeline.fit_transform(train.drop([target],1))\n",
    "preprocessed_test = preprocess_pipeline.transform(test.drop([target],1))"
   ]
  },
  {
   "cell_type": "code",
   "execution_count": 8,
   "metadata": {},
   "outputs": [],
   "source": [
    "# Converting dataframes to dict objects\n",
    "train_dict = preprocessed_train.to_dict(orient='records')\n",
    "test_dict = preprocessed_test.to_dict(orient='records')"
   ]
  },
  {
   "cell_type": "code",
   "execution_count": 9,
   "metadata": {},
   "outputs": [],
   "source": [
    "# Transforming the data and getting ready for training the pipeline\n",
    "X_train = transform_pipeline.fit_transform(train_dict)\n",
    "X_test = transform_pipeline.transform(test_dict)\n",
    "\n",
    "y_train = train[target]\n",
    "y_test = test[target]"
   ]
  },
  {
   "cell_type": "code",
   "execution_count": 17,
   "metadata": {},
   "outputs": [],
   "source": [
    "# Defining the models\n",
    "\n",
    "d_param_grid = {\n",
    "    'max_features': [None, 'sqrt', 'log2'],\n",
    "    'max_depth' : [4,5,6,7,8,10,20],\n",
    "    'min_samples_leaf' : [1,3,5,10,20],\n",
    "    'criterion' : ['gini', 'entropy'],\n",
    "    'random_state' : [1], \n",
    "    'class_weight' : ['balanced']\n",
    "}\n",
    "d_clf = DecisionTreeClassifier(random_state=1, class_weight='balanced')\n",
    "\n",
    "\n",
    "lr_param_grid = {\n",
    "    \"C\":np.logspace(-3,3,7), \n",
    "    \"max_iter\": [1000,2000,5000,10000]\n",
    "    } # l1 lasso l2 ridge\n",
    "    \n",
    "lr_clf = LogisticRegression()\n"
   ]
  },
  {
   "cell_type": "code",
   "execution_count": 18,
   "metadata": {},
   "outputs": [
    {
     "name": "stdout",
     "output_type": "stream",
     "text": [
      "CPU times: user 2 µs, sys: 1 µs, total: 3 µs\n",
      "Wall time: 7.15 µs\n"
     ]
    }
   ],
   "source": [
    "# Training the models\n",
    "%time\n",
    "\n",
    "d_clf_cv = GridSearchCV(estimator=d_clf, param_grid=d_param_grid, cv=5, scoring='recall')\n",
    "d_clf_cv.fit(X_train, y_train)\n",
    "\n",
    "lr_clf_cv = GridSearchCV(estimator=lr_clf, param_grid=lr_param_grid, cv=5, scoring='recall')\n",
    "lr_clf_cv.fit(X_train, y_train)\n",
    "\n",
    "lr_best_params = lr_clf_cv.best_params_\n",
    "d_best_params = d_clf_cv.best_params_"
   ]
  },
  {
   "cell_type": "code",
   "execution_count": 26,
   "metadata": {},
   "outputs": [
    {
     "data": {
      "text/html": [
       "<style>#sk-container-id-2 {color: black;background-color: white;}#sk-container-id-2 pre{padding: 0;}#sk-container-id-2 div.sk-toggleable {background-color: white;}#sk-container-id-2 label.sk-toggleable__label {cursor: pointer;display: block;width: 100%;margin-bottom: 0;padding: 0.3em;box-sizing: border-box;text-align: center;}#sk-container-id-2 label.sk-toggleable__label-arrow:before {content: \"▸\";float: left;margin-right: 0.25em;color: #696969;}#sk-container-id-2 label.sk-toggleable__label-arrow:hover:before {color: black;}#sk-container-id-2 div.sk-estimator:hover label.sk-toggleable__label-arrow:before {color: black;}#sk-container-id-2 div.sk-toggleable__content {max-height: 0;max-width: 0;overflow: hidden;text-align: left;background-color: #f0f8ff;}#sk-container-id-2 div.sk-toggleable__content pre {margin: 0.2em;color: black;border-radius: 0.25em;background-color: #f0f8ff;}#sk-container-id-2 input.sk-toggleable__control:checked~div.sk-toggleable__content {max-height: 200px;max-width: 100%;overflow: auto;}#sk-container-id-2 input.sk-toggleable__control:checked~label.sk-toggleable__label-arrow:before {content: \"▾\";}#sk-container-id-2 div.sk-estimator input.sk-toggleable__control:checked~label.sk-toggleable__label {background-color: #d4ebff;}#sk-container-id-2 div.sk-label input.sk-toggleable__control:checked~label.sk-toggleable__label {background-color: #d4ebff;}#sk-container-id-2 input.sk-hidden--visually {border: 0;clip: rect(1px 1px 1px 1px);clip: rect(1px, 1px, 1px, 1px);height: 1px;margin: -1px;overflow: hidden;padding: 0;position: absolute;width: 1px;}#sk-container-id-2 div.sk-estimator {font-family: monospace;background-color: #f0f8ff;border: 1px dotted black;border-radius: 0.25em;box-sizing: border-box;margin-bottom: 0.5em;}#sk-container-id-2 div.sk-estimator:hover {background-color: #d4ebff;}#sk-container-id-2 div.sk-parallel-item::after {content: \"\";width: 100%;border-bottom: 1px solid gray;flex-grow: 1;}#sk-container-id-2 div.sk-label:hover label.sk-toggleable__label {background-color: #d4ebff;}#sk-container-id-2 div.sk-serial::before {content: \"\";position: absolute;border-left: 1px solid gray;box-sizing: border-box;top: 0;bottom: 0;left: 50%;z-index: 0;}#sk-container-id-2 div.sk-serial {display: flex;flex-direction: column;align-items: center;background-color: white;padding-right: 0.2em;padding-left: 0.2em;position: relative;}#sk-container-id-2 div.sk-item {position: relative;z-index: 1;}#sk-container-id-2 div.sk-parallel {display: flex;align-items: stretch;justify-content: center;background-color: white;position: relative;}#sk-container-id-2 div.sk-item::before, #sk-container-id-2 div.sk-parallel-item::before {content: \"\";position: absolute;border-left: 1px solid gray;box-sizing: border-box;top: 0;bottom: 0;left: 50%;z-index: -1;}#sk-container-id-2 div.sk-parallel-item {display: flex;flex-direction: column;z-index: 1;position: relative;background-color: white;}#sk-container-id-2 div.sk-parallel-item:first-child::after {align-self: flex-end;width: 50%;}#sk-container-id-2 div.sk-parallel-item:last-child::after {align-self: flex-start;width: 50%;}#sk-container-id-2 div.sk-parallel-item:only-child::after {width: 0;}#sk-container-id-2 div.sk-dashed-wrapped {border: 1px dashed gray;margin: 0 0.4em 0.5em 0.4em;box-sizing: border-box;padding-bottom: 0.4em;background-color: white;}#sk-container-id-2 div.sk-label label {font-family: monospace;font-weight: bold;display: inline-block;line-height: 1.2em;}#sk-container-id-2 div.sk-label-container {text-align: center;}#sk-container-id-2 div.sk-container {/* jupyter's `normalize.less` sets `[hidden] { display: none; }` but bootstrap.min.css set `[hidden] { display: none !important; }` so we also need the `!important` here to be able to override the default hidden behavior on the sphinx rendered scikit-learn.org. See: https://github.com/scikit-learn/scikit-learn/issues/21755 */display: inline-block !important;position: relative;}#sk-container-id-2 div.sk-text-repr-fallback {display: none;}</style><div id=\"sk-container-id-2\" class=\"sk-top-container\"><div class=\"sk-text-repr-fallback\"><pre>DecisionTreeClassifier(class_weight=&#x27;balanced&#x27;, criterion=&#x27;entropy&#x27;,\n",
       "                       max_depth=4, min_samples_leaf=10, random_state=1)</pre><b>In a Jupyter environment, please rerun this cell to show the HTML representation or trust the notebook. <br />On GitHub, the HTML representation is unable to render, please try loading this page with nbviewer.org.</b></div><div class=\"sk-container\" hidden><div class=\"sk-item\"><div class=\"sk-estimator sk-toggleable\"><input class=\"sk-toggleable__control sk-hidden--visually\" id=\"sk-estimator-id-2\" type=\"checkbox\" checked><label for=\"sk-estimator-id-2\" class=\"sk-toggleable__label sk-toggleable__label-arrow\">DecisionTreeClassifier</label><div class=\"sk-toggleable__content\"><pre>DecisionTreeClassifier(class_weight=&#x27;balanced&#x27;, criterion=&#x27;entropy&#x27;,\n",
       "                       max_depth=4, min_samples_leaf=10, random_state=1)</pre></div></div></div></div></div>"
      ],
      "text/plain": [
       "DecisionTreeClassifier(class_weight='balanced', criterion='entropy',\n",
       "                       max_depth=4, min_samples_leaf=10, random_state=1)"
      ]
     },
     "execution_count": 26,
     "metadata": {},
     "output_type": "execute_result"
    }
   ],
   "source": [
    "# Training the best models\n",
    "lr_best_clf = LogisticRegression(**lr_best_params)\n",
    "d_best_clf = DecisionTreeClassifier(**d_best_params)\n",
    "\n",
    "lr_best_clf.fit(X_train, y_train)\n",
    "d_best_clf.fit(X_train, y_train)"
   ]
  },
  {
   "cell_type": "code",
   "execution_count": 27,
   "metadata": {},
   "outputs": [
    {
     "data": {
      "text/plain": [
       "(0.7058823529411765, 0.058823529411764705)"
      ]
     },
     "execution_count": 27,
     "metadata": {},
     "output_type": "execute_result"
    }
   ],
   "source": [
    "# Evaluate the models\n",
    "def evaluate(model, X_val, y_val):\n",
    "    \"\"\"Evaluation function to return AUC\"\"\"\n",
    "\n",
    "    predictions = model.predict(X_val)\n",
    "    recall = recall_score(y_val, predictions)\n",
    "    return recall\n",
    "\n",
    "\n",
    "d_recall = evaluate(d_best_clf, X_val=X_test, y_val=y_test)\n",
    "lr_recall = evaluate(lr_best_clf, X_val=X_test, y_val=y_test)\n",
    "\n",
    "d_recall, lr_recall\n"
   ]
  },
  {
   "cell_type": "code",
   "execution_count": null,
   "metadata": {},
   "outputs": [],
   "source": [
    "# Xgboost framework"
   ]
  }
 ],
 "metadata": {
  "kernelspec": {
   "display_name": "Python 3.9.13 ('mlbookzoomcamp-midterm-stroke-prediction-7dCDNWJM')",
   "language": "python",
   "name": "python3"
  },
  "language_info": {
   "codemirror_mode": {
    "name": "ipython",
    "version": 3
   },
   "file_extension": ".py",
   "mimetype": "text/x-python",
   "name": "python",
   "nbconvert_exporter": "python",
   "pygments_lexer": "ipython3",
   "version": "3.9.13"
  },
  "orig_nbformat": 4,
  "vscode": {
   "interpreter": {
    "hash": "cf88307170041299b6a7b78e7de7ff18074e720894703cbb9c8698b65b48259f"
   }
  }
 },
 "nbformat": 4,
 "nbformat_minor": 2
}
