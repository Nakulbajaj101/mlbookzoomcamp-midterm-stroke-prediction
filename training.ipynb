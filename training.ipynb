{
 "cells": [
  {
   "cell_type": "code",
   "execution_count": 1,
   "metadata": {},
   "outputs": [],
   "source": [
    "import numpy as np\n",
    "import pandas as pd\n",
    "import xgboost as xgb\n",
    "from sklearn.ensemble import RandomForestClassifier\n",
    "from sklearn.feature_extraction import DictVectorizer\n",
    "from sklearn.impute import KNNImputer\n",
    "from sklearn.linear_model import LogisticRegression\n",
    "from sklearn.metrics import roc_auc_score, confusion_matrix\n",
    "from sklearn.model_selection import GridSearchCV, train_test_split\n",
    "from sklearn.pipeline import Pipeline\n",
    "from sklearn.preprocessing import MinMaxScaler\n",
    "from sklearn.tree import DecisionTreeClassifier\n",
    "\n",
    "from processing.preprocessors import (BinaryEncoder, CleanStrings,\n",
    "                                      ColumnDropperTransformer)\n"
   ]
  },
  {
   "cell_type": "code",
   "execution_count": 2,
   "metadata": {},
   "outputs": [],
   "source": [
    "# Importing the data\n",
    "data = pd.read_csv(\"healthcare-dataset-stroke-data.csv\")"
   ]
  },
  {
   "cell_type": "code",
   "execution_count": 3,
   "metadata": {},
   "outputs": [],
   "source": [
    "# Cleaning the columns\n",
    "columns = [cols.lower().replace(\" \",\"_\") for cols in data]\n",
    "data.columns = columns"
   ]
  },
  {
   "cell_type": "code",
   "execution_count": 4,
   "metadata": {},
   "outputs": [],
   "source": [
    "# Storing the column definitions so can run them through the pipeline\n",
    "id = 'id'\n",
    "target = 'stroke'\n",
    "\n",
    "\n",
    "categorical_columns = ['gender', 'hypertension', 'heart_disease', 'ever_married',\n",
    "       'work_type', 'residence_type', 'smoking_status']\n",
    "\n",
    "numerical_columns = ['avg_glucose_level', 'bmi']\n",
    "\n",
    "missing_data_num_columns = ['bmi']\n",
    "\n",
    "binary_encoder_column = \"ever_married\"\n",
    "\n",
    "categorical_binary_classifier_column = ['heart_disease']"
   ]
  },
  {
   "cell_type": "code",
   "execution_count": 5,
   "metadata": {},
   "outputs": [
    {
     "data": {
      "text/plain": [
       "((4599, 12), (511, 12))"
      ]
     },
     "execution_count": 5,
     "metadata": {},
     "output_type": "execute_result"
    }
   ],
   "source": [
    "# Split the data into train and test\n",
    "train, test = train_test_split(data, test_size=0.1, random_state=1)\n",
    "\n",
    "train.shape, test.shape\n",
    "\n",
    "\n"
   ]
  },
  {
   "cell_type": "code",
   "execution_count": 6,
   "metadata": {},
   "outputs": [],
   "source": [
    "# Defining the Pipeline Objects\n",
    "preprocess_pipeline = Pipeline(\n",
    "    [\n",
    "        (\"dropping_id_column\",\n",
    "        \n",
    "            ColumnDropperTransformer(\n",
    "                column_list=[id]\n",
    "            )\n",
    "        ),\n",
    "        (\"binary_encoder\",\n",
    "            BinaryEncoder(\n",
    "                column_name=binary_encoder_column\n",
    "            )\n",
    "        ),\n",
    "        (\"cleaning_strings\",\n",
    "            CleanStrings(\n",
    "                column_list=categorical_columns\n",
    "            )\n",
    "        )\n",
    "    ])\n",
    "\n",
    "transform_pipeline = Pipeline(\n",
    "    [   \n",
    "        (\"dict_vectorizer\",\n",
    "            DictVectorizer(sparse=False)\n",
    "        ),\n",
    "        (\"scaling_data\",\n",
    "            MinMaxScaler()\n",
    "        ),\n",
    "        (\"multiple_numeric_values_imputation\",\n",
    "            KNNImputer(add_indicator=True)\n",
    "        )\n",
    "    ]\n",
    ")"
   ]
  },
  {
   "cell_type": "code",
   "execution_count": 7,
   "metadata": {},
   "outputs": [
    {
     "name": "stderr",
     "output_type": "stream",
     "text": [
      "/var/folders/6f/p7312_7n4nq5hp35rfymms1h0000gn/T/ipykernel_2443/3679917043.py:2: FutureWarning: In a future version of pandas all arguments of DataFrame.drop except for the argument 'labels' will be keyword-only.\n",
      "  preprocessed_train = preprocess_pipeline.fit_transform(train.drop([target],1))\n",
      "/var/folders/6f/p7312_7n4nq5hp35rfymms1h0000gn/T/ipykernel_2443/3679917043.py:3: FutureWarning: In a future version of pandas all arguments of DataFrame.drop except for the argument 'labels' will be keyword-only.\n",
      "  preprocessed_test = preprocess_pipeline.transform(test.drop([target],1))\n"
     ]
    }
   ],
   "source": [
    "# Preprocessed data\n",
    "preprocessed_train = preprocess_pipeline.fit_transform(train.drop([target],1))\n",
    "preprocessed_test = preprocess_pipeline.transform(test.drop([target],1))"
   ]
  },
  {
   "cell_type": "code",
   "execution_count": 8,
   "metadata": {},
   "outputs": [],
   "source": [
    "# Converting dataframes to dict objects\n",
    "train_dict = preprocessed_train.to_dict(orient='records')\n",
    "test_dict = preprocessed_test.to_dict(orient='records')"
   ]
  },
  {
   "cell_type": "code",
   "execution_count": 9,
   "metadata": {},
   "outputs": [],
   "source": [
    "# Transforming the data and getting ready for training the pipeline\n",
    "X_train = transform_pipeline.fit_transform(train_dict)\n",
    "X_test = transform_pipeline.transform(test_dict)\n",
    "\n",
    "y_train = train[target]\n",
    "y_test = test[target]"
   ]
  },
  {
   "cell_type": "code",
   "execution_count": 10,
   "metadata": {},
   "outputs": [],
   "source": [
    "# Defining the models\n",
    "\n",
    "majority_class_instances = len(y_train) - y_train.sum()\n",
    "minority_class_instances = y_train.sum()\n",
    "weight_adjust_pos = majority_class_instances/minority_class_instances\n",
    "\n",
    "# Decision Tree\n",
    "d_param_grid = {\n",
    "    'max_features': [None, 'sqrt', 'log2'],\n",
    "    'max_depth' : [4,5,6,7,8,10,20],\n",
    "    'min_samples_leaf' : [1,3,5,10,20],\n",
    "    'criterion' : ['gini', 'entropy'],\n",
    "    'random_state' : [1], \n",
    "    'class_weight' : ['balanced']\n",
    "}\n",
    "d_clf = DecisionTreeClassifier(random_state=1, class_weight='balanced')\n",
    "\n",
    "\n",
    "# Logistic Regression\n",
    "lr_param_grid = {\n",
    "    \"C\":np.logspace(-3,3,7), \n",
    "    \"max_iter\": [500, 1000,2000, 5000],\n",
    "    'class_weight' : ['balanced'],\n",
    "    'random_state' : [1]\n",
    "    } \n",
    "    \n",
    "lr_clf = LogisticRegression()\n",
    "\n",
    "# Xgboost\n",
    "xgb_params = {\n",
    "    'eta': [0.05, 0.1, 0.2],\n",
    "    'max_depth': [4,5,6,7,8,10,20],\n",
    "    'min_child_weight': [1,3,5,10,20],\n",
    "    'n_estimators': [5, 10, 20, 50],\n",
    "    'scale_pos_weight': [weight_adjust_pos],\n",
    "    'objective':['binary:logistic'],\n",
    "    'seed': [1],\n",
    "    'verbosity': [1]\n",
    "}\n",
    "\n",
    "xgb_clf = xgb.XGBClassifier()\n"
   ]
  },
  {
   "cell_type": "code",
   "execution_count": 11,
   "metadata": {},
   "outputs": [
    {
     "name": "stdout",
     "output_type": "stream",
     "text": [
      "CPU times: user 7 µs, sys: 18 µs, total: 25 µs\n",
      "Wall time: 6.91 µs\n",
      "Decision tree optimised\n",
      "Logistic regression optimised\n",
      "xgboost classifier optimised\n"
     ]
    }
   ],
   "source": [
    "# Training the models\n",
    "%time\n",
    "\n",
    "d_clf_cv = GridSearchCV(estimator=d_clf, param_grid=d_param_grid, cv=5, scoring='roc_auc')\n",
    "d_clf_cv.fit(X_train, y_train)\n",
    "\n",
    "print(\"Decision tree optimised\")\n",
    "\n",
    "lr_clf_cv = GridSearchCV(estimator=lr_clf, param_grid=lr_param_grid, cv=5, scoring='roc_auc')\n",
    "lr_clf_cv.fit(X_train, y_train)\n",
    "\n",
    "print(\"Logistic regression optimised\")\n",
    "\n",
    "\n",
    "xgb_clf_cv = GridSearchCV(estimator=xgb_clf, param_grid=xgb_params, cv=5, scoring='roc_auc')\n",
    "xgb_clf_cv.fit(X_train, y_train)\n",
    "\n",
    "print(\"xgboost classifier optimised\")\n",
    "\n",
    "lr_best_params = lr_clf_cv.best_params_\n",
    "d_best_params = d_clf_cv.best_params_\n",
    "xgb_best_params = xgb_clf_cv.best_params_"
   ]
  },
  {
   "cell_type": "code",
   "execution_count": 12,
   "metadata": {},
   "outputs": [
    {
     "data": {
      "text/html": [
       "<style>#sk-container-id-1 {color: black;background-color: white;}#sk-container-id-1 pre{padding: 0;}#sk-container-id-1 div.sk-toggleable {background-color: white;}#sk-container-id-1 label.sk-toggleable__label {cursor: pointer;display: block;width: 100%;margin-bottom: 0;padding: 0.3em;box-sizing: border-box;text-align: center;}#sk-container-id-1 label.sk-toggleable__label-arrow:before {content: \"▸\";float: left;margin-right: 0.25em;color: #696969;}#sk-container-id-1 label.sk-toggleable__label-arrow:hover:before {color: black;}#sk-container-id-1 div.sk-estimator:hover label.sk-toggleable__label-arrow:before {color: black;}#sk-container-id-1 div.sk-toggleable__content {max-height: 0;max-width: 0;overflow: hidden;text-align: left;background-color: #f0f8ff;}#sk-container-id-1 div.sk-toggleable__content pre {margin: 0.2em;color: black;border-radius: 0.25em;background-color: #f0f8ff;}#sk-container-id-1 input.sk-toggleable__control:checked~div.sk-toggleable__content {max-height: 200px;max-width: 100%;overflow: auto;}#sk-container-id-1 input.sk-toggleable__control:checked~label.sk-toggleable__label-arrow:before {content: \"▾\";}#sk-container-id-1 div.sk-estimator input.sk-toggleable__control:checked~label.sk-toggleable__label {background-color: #d4ebff;}#sk-container-id-1 div.sk-label input.sk-toggleable__control:checked~label.sk-toggleable__label {background-color: #d4ebff;}#sk-container-id-1 input.sk-hidden--visually {border: 0;clip: rect(1px 1px 1px 1px);clip: rect(1px, 1px, 1px, 1px);height: 1px;margin: -1px;overflow: hidden;padding: 0;position: absolute;width: 1px;}#sk-container-id-1 div.sk-estimator {font-family: monospace;background-color: #f0f8ff;border: 1px dotted black;border-radius: 0.25em;box-sizing: border-box;margin-bottom: 0.5em;}#sk-container-id-1 div.sk-estimator:hover {background-color: #d4ebff;}#sk-container-id-1 div.sk-parallel-item::after {content: \"\";width: 100%;border-bottom: 1px solid gray;flex-grow: 1;}#sk-container-id-1 div.sk-label:hover label.sk-toggleable__label {background-color: #d4ebff;}#sk-container-id-1 div.sk-serial::before {content: \"\";position: absolute;border-left: 1px solid gray;box-sizing: border-box;top: 0;bottom: 0;left: 50%;z-index: 0;}#sk-container-id-1 div.sk-serial {display: flex;flex-direction: column;align-items: center;background-color: white;padding-right: 0.2em;padding-left: 0.2em;position: relative;}#sk-container-id-1 div.sk-item {position: relative;z-index: 1;}#sk-container-id-1 div.sk-parallel {display: flex;align-items: stretch;justify-content: center;background-color: white;position: relative;}#sk-container-id-1 div.sk-item::before, #sk-container-id-1 div.sk-parallel-item::before {content: \"\";position: absolute;border-left: 1px solid gray;box-sizing: border-box;top: 0;bottom: 0;left: 50%;z-index: -1;}#sk-container-id-1 div.sk-parallel-item {display: flex;flex-direction: column;z-index: 1;position: relative;background-color: white;}#sk-container-id-1 div.sk-parallel-item:first-child::after {align-self: flex-end;width: 50%;}#sk-container-id-1 div.sk-parallel-item:last-child::after {align-self: flex-start;width: 50%;}#sk-container-id-1 div.sk-parallel-item:only-child::after {width: 0;}#sk-container-id-1 div.sk-dashed-wrapped {border: 1px dashed gray;margin: 0 0.4em 0.5em 0.4em;box-sizing: border-box;padding-bottom: 0.4em;background-color: white;}#sk-container-id-1 div.sk-label label {font-family: monospace;font-weight: bold;display: inline-block;line-height: 1.2em;}#sk-container-id-1 div.sk-label-container {text-align: center;}#sk-container-id-1 div.sk-container {/* jupyter's `normalize.less` sets `[hidden] { display: none; }` but bootstrap.min.css set `[hidden] { display: none !important; }` so we also need the `!important` here to be able to override the default hidden behavior on the sphinx rendered scikit-learn.org. See: https://github.com/scikit-learn/scikit-learn/issues/21755 */display: inline-block !important;position: relative;}#sk-container-id-1 div.sk-text-repr-fallback {display: none;}</style><div id=\"sk-container-id-1\" class=\"sk-top-container\"><div class=\"sk-text-repr-fallback\"><pre>XGBClassifier(base_score=0.5, booster=&#x27;gbtree&#x27;, callbacks=None,\n",
       "              colsample_bylevel=1, colsample_bynode=1, colsample_bytree=1,\n",
       "              early_stopping_rounds=None, enable_categorical=False, eta=0.05,\n",
       "              eval_metric=None, gamma=0, gpu_id=-1, grow_policy=&#x27;depthwise&#x27;,\n",
       "              importance_type=None, interaction_constraints=&#x27;&#x27;,\n",
       "              learning_rate=0.0500000007, max_bin=256, max_cat_to_onehot=4,\n",
       "              max_delta_step=0, max_depth=4, max_leaves=0, min_child_weight=20,\n",
       "              missing=nan, monotone_constraints=&#x27;()&#x27;, n_estimators=50, n_jobs=0,\n",
       "              num_parallel_tree=1, predictor=&#x27;auto&#x27;, random_state=1,\n",
       "              reg_alpha=0, ...)</pre><b>In a Jupyter environment, please rerun this cell to show the HTML representation or trust the notebook. <br />On GitHub, the HTML representation is unable to render, please try loading this page with nbviewer.org.</b></div><div class=\"sk-container\" hidden><div class=\"sk-item\"><div class=\"sk-estimator sk-toggleable\"><input class=\"sk-toggleable__control sk-hidden--visually\" id=\"sk-estimator-id-1\" type=\"checkbox\" checked><label for=\"sk-estimator-id-1\" class=\"sk-toggleable__label sk-toggleable__label-arrow\">XGBClassifier</label><div class=\"sk-toggleable__content\"><pre>XGBClassifier(base_score=0.5, booster=&#x27;gbtree&#x27;, callbacks=None,\n",
       "              colsample_bylevel=1, colsample_bynode=1, colsample_bytree=1,\n",
       "              early_stopping_rounds=None, enable_categorical=False, eta=0.05,\n",
       "              eval_metric=None, gamma=0, gpu_id=-1, grow_policy=&#x27;depthwise&#x27;,\n",
       "              importance_type=None, interaction_constraints=&#x27;&#x27;,\n",
       "              learning_rate=0.0500000007, max_bin=256, max_cat_to_onehot=4,\n",
       "              max_delta_step=0, max_depth=4, max_leaves=0, min_child_weight=20,\n",
       "              missing=nan, monotone_constraints=&#x27;()&#x27;, n_estimators=50, n_jobs=0,\n",
       "              num_parallel_tree=1, predictor=&#x27;auto&#x27;, random_state=1,\n",
       "              reg_alpha=0, ...)</pre></div></div></div></div></div>"
      ],
      "text/plain": [
       "XGBClassifier(base_score=0.5, booster='gbtree', callbacks=None,\n",
       "              colsample_bylevel=1, colsample_bynode=1, colsample_bytree=1,\n",
       "              early_stopping_rounds=None, enable_categorical=False, eta=0.05,\n",
       "              eval_metric=None, gamma=0, gpu_id=-1, grow_policy='depthwise',\n",
       "              importance_type=None, interaction_constraints='',\n",
       "              learning_rate=0.0500000007, max_bin=256, max_cat_to_onehot=4,\n",
       "              max_delta_step=0, max_depth=4, max_leaves=0, min_child_weight=20,\n",
       "              missing=nan, monotone_constraints='()', n_estimators=50, n_jobs=0,\n",
       "              num_parallel_tree=1, predictor='auto', random_state=1,\n",
       "              reg_alpha=0, ...)"
      ]
     },
     "execution_count": 12,
     "metadata": {},
     "output_type": "execute_result"
    }
   ],
   "source": [
    "# Training the best models\n",
    "lr_best_clf = LogisticRegression(**lr_best_params)\n",
    "d_best_clf = DecisionTreeClassifier(**d_best_params)\n",
    "xgb_best_clf = xgb.XGBClassifier(**xgb_best_params)\n",
    "\n",
    "lr_best_clf.fit(X_train, y_train)\n",
    "d_best_clf.fit(X_train, y_train)\n",
    "xgb_best_clf.fit(X_train, y_train)"
   ]
  },
  {
   "cell_type": "code",
   "execution_count": 13,
   "metadata": {},
   "outputs": [
    {
     "data": {
      "text/plain": [
       "(0.8565729935698975, 0.8718742557751846, 0.8774112884020004)"
      ]
     },
     "execution_count": 13,
     "metadata": {},
     "output_type": "execute_result"
    }
   ],
   "source": [
    "# Evaluating all the models\n",
    "# Evaluate the models\n",
    "def evaluate(model, X_val, y_val):\n",
    "    \"\"\"Evaluation function to return recall\"\"\"\n",
    "\n",
    "    predictions = model.predict_proba(X_val)[:,1]\n",
    "    roc_auc = roc_auc_score(y_val, predictions)\n",
    "    return roc_auc\n",
    "\n",
    "\n",
    "d_roc_auc = evaluate(d_best_clf, X_val=X_test, y_val=y_test)\n",
    "lr_roc_auc = evaluate(lr_best_clf, X_val=X_test, y_val=y_test)\n",
    "xgb_roc_auc = evaluate(xgb_best_clf, X_val=X_test, y_val=y_test)\n",
    "d_roc_auc, lr_roc_auc, xgb_roc_auc"
   ]
  },
  {
   "cell_type": "code",
   "execution_count": 24,
   "metadata": {},
   "outputs": [
    {
     "name": "stdout",
     "output_type": "stream",
     "text": [
      "Decision Tree Confusion Matrix \n",
      " [[0.82591093 0.17408907]\n",
      " [0.29411765 0.70588235]]\n",
      "\n",
      "Logistic Regression Confusion Matrix \n",
      " [[0.76315789 0.23684211]\n",
      " [0.11764706 0.88235294]]\n",
      "\n",
      "Xgboost Confusion Matrix \n",
      " [[0.76720648 0.23279352]\n",
      " [0.17647059 0.82352941]]\n",
      "\n"
     ]
    }
   ],
   "source": [
    "# Confusion Matrix\n",
    "d_cm = confusion_matrix(y_true=y_test, y_pred=d_best_clf.predict(X_test), normalize='true')\n",
    "lr_cm = confusion_matrix(y_true=y_test, y_pred=lr_best_clf.predict(X_test), normalize='true')\n",
    "xgb_cm = confusion_matrix(y_true=y_test, y_pred=xgb_best_clf.predict(X_test), normalize='true')\n",
    "\n",
    "print(f\"Decision Tree Confusion Matrix \\n {d_cm}\")\n",
    "print()\n",
    "\n",
    "print(f\"Logistic Regression Confusion Matrix \\n {lr_cm}\")\n",
    "print()\n",
    "\n",
    "print(f\"Xgboost Confusion Matrix \\n {xgb_cm}\")\n",
    "print()"
   ]
  },
  {
   "cell_type": "code",
   "execution_count": 34,
   "metadata": {},
   "outputs": [
    {
     "name": "stdout",
     "output_type": "stream",
     "text": [
      "Using bentoml xgboost framework\n",
      "XGBClassifier(base_score=0.5, booster='gbtree', callbacks=None,\n",
      "              colsample_bylevel=1, colsample_bynode=1, colsample_bytree=1,\n",
      "              early_stopping_rounds=None, enable_categorical=False, eta=0.05,\n",
      "              eval_metric=None, gamma=0, gpu_id=-1, grow_policy='depthwise',\n",
      "              importance_type=None, interaction_constraints='',\n",
      "              learning_rate=0.0500000007, max_bin=256, max_cat_to_onehot=4,\n",
      "              max_delta_step=0, max_depth=4, max_leaves=0, min_child_weight=20,\n",
      "              missing=nan, monotone_constraints='()', n_estimators=50, n_jobs=0,\n",
      "              num_parallel_tree=1, predictor='auto', random_state=1,\n",
      "              reg_alpha=0, ...)\n"
     ]
    }
   ],
   "source": [
    "# Models and scores dict\n",
    "model_performances = {\n",
    "    \"decision_tree\" : {\n",
    "        \"model\" : d_best_clf,\n",
    "        \"roc_auc\" : d_roc_auc\n",
    "    },\n",
    "    \"xgboost\" : {\n",
    "        \"model\" : xgb_best_clf,\n",
    "        \"roc_auc\" : xgb_roc_auc\n",
    "    },\n",
    "    \"logistic_regression\" : {\n",
    "        \"model\" : lr_best_clf,\n",
    "        \"roc_auc\" : lr_roc_auc\n",
    "    }\n",
    "} \n",
    "\n",
    "best_model = sorted(model_performances.items(), reverse=True, key=lambda score: score[1]['roc_auc'])[0]\n",
    "\n",
    "if best_model[0] == 'xgboost':\n",
    "    print(f\"Using bentoml xgboost framework\")\n",
    "else:\n",
    "    print(f\"Using bentoml scikit learn framework\")\n",
    "\n",
    "model = best_model[1]['model']\n",
    "print(model)"
   ]
  }
 ],
 "metadata": {
  "kernelspec": {
   "display_name": "Python 3.9.13 ('mlbookzoomcamp-midterm-stroke-prediction-7dCDNWJM')",
   "language": "python",
   "name": "python3"
  },
  "language_info": {
   "codemirror_mode": {
    "name": "ipython",
    "version": 3
   },
   "file_extension": ".py",
   "mimetype": "text/x-python",
   "name": "python",
   "nbconvert_exporter": "python",
   "pygments_lexer": "ipython3",
   "version": "3.9.13"
  },
  "orig_nbformat": 4,
  "vscode": {
   "interpreter": {
    "hash": "cf88307170041299b6a7b78e7de7ff18074e720894703cbb9c8698b65b48259f"
   }
  }
 },
 "nbformat": 4,
 "nbformat_minor": 2
}
